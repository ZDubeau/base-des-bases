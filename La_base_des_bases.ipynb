{
 "cells": [
  {
   "cell_type": "code",
   "execution_count": null,
   "metadata": {},
   "outputs": [],
   "source": [
    "''' Average age of the group '''\n",
    "'''        first way         '''\n",
    "\n",
    "import csv # import Module CSV\n",
    "# import class from Module datetime for calculate age and its average\n",
    "from datetime import date, timedelta\n",
    "import datetime\n",
    "\n",
    "number = 0\n",
    "age_total = 0\n",
    "age_list = []\n",
    "with open('données_groupe_1.csv', 'r') as csvfile:\n",
    "    reader = csv.DictReader(csvfile)\n",
    "    for row in reader:\n",
    "        birthDate = row['Date_naissance']\n",
    "        age_list.append(birthDate)\n",
    "        number += 1\n",
    "    for item in age_list:\n",
    "              #module   class    method\n",
    "        dob = datetime.datetime.strptime(item, '%d/%m/%Y')\n",
    "        today = date.today()\n",
    "        age = today.year - dob.year - ((today.month, today.day) < (dob.month, dob.day))\n",
    "        age_total += age\n",
    "        \n",
    "avg = age_total / len(age_list)\n",
    "print(\"Average age of the group :\" ,round(avg), \"years old\")"
   ]
  },
  {
   "cell_type": "markdown",
   "metadata": {},
   "source": [
    "OUTPUT : Average age of the group : 39 years old"
   ]
  },
  {
   "cell_type": "code",
   "execution_count": null,
   "metadata": {},
   "outputs": [],
   "source": [
    "''' Average age of the group '''\n",
    "'''       second way         '''\n",
    "\n",
    "import pandas as pd\n",
    "from datetime import datetime, date\n",
    "\n",
    "data = pd.read_csv('données_groupe_1.csv')\n",
    "date_naissance = data['Date_naissance']\n",
    "birthdate = pd.to_datetime(date_naissance, format='%d/%m/%Y')\n",
    "age = pd.to_datetime('today') - birthdate\n",
    "avg_age = age.mean()\n",
    "\n",
    "avg_age # by day"
   ]
  },
  {
   "cell_type": "markdown",
   "metadata": {},
   "source": [
    "OUTPUT :  Timedelta('14391 days 07:53:07.814534')"
   ]
  },
  {
   "cell_type": "code",
   "execution_count": null,
   "metadata": {},
   "outputs": [],
   "source": [
    "''' Learner who lives furthest from Simplon '''\n",
    "\n",
    "import csv # import Module CSV\n",
    "import math\n",
    "from math import sin, cos, sqrt, atan2, radians\n",
    "\n",
    "\n",
    "#coordinate_simplon = ('45.1667', '5.7167')\n",
    "lat_simplon = 45.1667\n",
    "lng_simplon = 5.7167\n",
    "radius = 6371 # km\n",
    "count = 0\n",
    "\n",
    "distance = []\n",
    "dict_ = {}\n",
    "with open('données_groupe_1.csv', 'r') as csvfile:\n",
    "    reader = csv.DictReader(csvfile)\n",
    "    for row in reader:\n",
    "        #print(row)\n",
    "        lat = float(row['Latitude_ville'])\n",
    "        lng = float(row['Longitude_ville'])\n",
    "        coordinate = (lat, lng)\n",
    "        distance.append(coordinate)\n",
    "        #print(distance)\n",
    "        count += 1\n",
    "        lon2 = radians(lng) \n",
    "        lat1 = radians(lat_simplon) \n",
    "        lat2 = radians(lat)\n",
    "        lon1 = radians(lng_simplon) \n",
    "        dlon = lon2 - lon1\n",
    "        dlat = lat2 - lat1\n",
    "        a = sin(dlat / 2)**2 + cos(lat1) * cos(lat2) * sin(dlon / 2)**2\n",
    "        c = 2 * atan2(sqrt(a), sqrt(1 - a))\n",
    "        nom_apprenant = row['Prenom']\n",
    "        distance_ = radius * c\n",
    "        dict_[nom_apprenant] = round(distance_, 2)\n",
    "        \n",
    "who = max(dict_, key=dict_.get)\n",
    "print(who,\":\",dict_[who], \"km\")"
   ]
  },
  {
   "cell_type": "markdown",
   "metadata": {},
   "source": [
    "OUTPUT : Kévin : 37.81 km"
   ]
  },
  {
   "cell_type": "code",
   "execution_count": null,
   "metadata": {},
   "outputs": [],
   "source": [
    "''' Learner who lives more than 10km from Simplon '''\n",
    "\n",
    "for key, value in dict_.items():\n",
    "    if value > 10:\n",
    "        print(key,\":\",value,\"km\")"
   ]
  },
  {
   "cell_type": "markdown",
   "metadata": {},
   "source": [
    "OUTPUT : Dominique : 21.03 km\n",
    "         Kévin : 37.81 km"
   ]
  },
  {
   "cell_type": "code",
   "execution_count": null,
   "metadata": {},
   "outputs": [],
   "source": [
    "''' Order learners alphabetically '''\n",
    "\n",
    "sorted(dict_)"
   ]
  },
  {
   "cell_type": "markdown",
   "metadata": {},
   "source": [
    "OUTPUT : ['Dominique', 'Hamid', 'Kévin', 'Zahra']"
   ]
  }
 ],
 "metadata": {
  "kernelspec": {
   "display_name": "Python 3",
   "language": "python",
   "name": "python3"
  },
  "language_info": {
   "codemirror_mode": {
    "name": "ipython",
    "version": 3
   },
   "file_extension": ".py",
   "mimetype": "text/x-python",
   "name": "python",
   "nbconvert_exporter": "python",
   "pygments_lexer": "ipython3",
   "version": "3.8.1"
  }
 },
 "nbformat": 4,
 "nbformat_minor": 4
}
